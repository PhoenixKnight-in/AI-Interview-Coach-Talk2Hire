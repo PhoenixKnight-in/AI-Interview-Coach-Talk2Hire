{
 "cells": [
  {
   "cell_type": "markdown",
   "id": "0e5da068-8105-45de-a42e-5c2f048f4bda",
   "metadata": {},
   "source": [
    "## ⚠️ Requirements\n",
    "\n",
    "- Please install [FFmpeg](https://ffmpeg.org/download.html) and add it to your system PATH before running this notebook."
   ]
  },
  {
   "cell_type": "code",
   "execution_count": 1,
   "id": "35ebd4d2-02c8-4e9f-80f3-f613ecec67ea",
   "metadata": {},
   "outputs": [
    {
     "name": "stdout",
     "output_type": "stream",
     "text": [
      "Collecting pydub\n",
      "  Downloading pydub-0.25.1-py2.py3-none-any.whl.metadata (1.4 kB)\n",
      "Downloading pydub-0.25.1-py2.py3-none-any.whl (32 kB)\n",
      "Installing collected packages: pydub\n",
      "Successfully installed pydub-0.25.1\n"
     ]
    }
   ],
   "source": [
    "!pip install pydub"
   ]
  },
  {
   "cell_type": "code",
   "execution_count": 7,
   "id": "0e03a4e2-48a1-4936-a4b3-f23539c10598",
   "metadata": {},
   "outputs": [
    {
     "name": "stdout",
     "output_type": "stream",
     "text": [
      "Converted and saved to: /Users/amangolani/Downloads/audio3.wav\n"
     ]
    }
   ],
   "source": [
    "from pydub import AudioSegment\n",
    "\n",
    "def convert_to_wav(input_path, output_path):\n",
    "    # Load audio file\n",
    "    audio = AudioSegment.from_file(input_path)\n",
    "\n",
    "    # Set parameters: mono, 16kHz sample rate, 16-bit PCM\n",
    "    audio = audio.set_channels(1)\n",
    "    audio = audio.set_frame_rate(16000)\n",
    "    audio = audio.set_sample_width(2)  # 2 bytes = 16-bit\n",
    "\n",
    "    # Export as .wav with PCM encoding\n",
    "    audio.export(output_path, format=\"wav\", codec=\"pcm_s16le\")\n",
    "    print(f\"Converted and saved to: {output_path}\")\n",
    "\n",
    "# Example \n",
    "input_file = \"/Users/amangolani/Downloads/audio_happy2.m4a\"\n",
    "output_file = \"/Users/amangolani/Downloads/audio3.wav\"\n",
    "convert_to_wav(input_file, output_file)\n"
   ]
  },
  {
   "cell_type": "code",
   "execution_count": null,
   "id": "e84a7bfe",
   "metadata": {},
   "outputs": [],
   "source": [
    "from pydub import AudioSegment\n",
    "\n",
    "def convert_to_wav(input_path, output_path):\n",
    "    # Load audio file\n",
    "    audio = AudioSegment.from_file(input_path)\n",
    "\n",
    "    # Set parameters: mono, 16kHz sample rate, 16-bit PCM\n",
    "    audio = audio.set_channels(1)\n",
    "    audio = audio.set_frame_rate(16000)\n",
    "    audio = audio.set_sample_width(2)  # 2 bytes = 16-bit\n",
    "\n",
    "    # Export as .wav with PCM encoding\n",
    "    audio.export(output_path, format=\"wav\", codec=\"pcm_s16le\")\n",
    "    print(f\"Converted and saved to: {output_path}\")\n",
    "\n",
    "# Example \n",
    "input_file = \"/Users/amangolani/Downloads/audio_happy2.m4a\"\n",
    "output_file = \"/Users/amangolani/Downloads/audio3.wav\"\n",
    "convert_to_wav(input_file, output_file)\n"
   ]
  }
 ],
 "metadata": {
  "kernelspec": {
   "display_name": "opensmile-env",
   "language": "python",
   "name": "python3"
  },
  "language_info": {
   "codemirror_mode": {
    "name": "ipython",
    "version": 3
   },
   "file_extension": ".py",
   "mimetype": "text/x-python",
   "name": "python",
   "nbconvert_exporter": "python",
   "pygments_lexer": "ipython3",
   "version": "3.11.13"
  }
 },
 "nbformat": 4,
 "nbformat_minor": 5
}
